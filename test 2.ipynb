{
 "cells": [
  {
   "cell_type": "code",
   "execution_count": 2,
   "metadata": {},
   "outputs": [
    {
     "name": "stdout",
     "output_type": "stream",
     "text": [
      "Requirement already satisfied: yfiles_jupyter_graphs in /home/ozymas/miniconda3/envs/ecosystem-ai/lib/python3.10/site-packages (1.10.1)\n",
      "Requirement already satisfied: networkx in /home/ozymas/miniconda3/envs/ecosystem-ai/lib/python3.10/site-packages (3.4.2)\n",
      "Requirement already satisfied: ipywidgets>=8.0.0 in /home/ozymas/miniconda3/envs/ecosystem-ai/lib/python3.10/site-packages (from yfiles_jupyter_graphs) (8.1.5)\n",
      "Requirement already satisfied: comm>=0.1.3 in /home/ozymas/miniconda3/envs/ecosystem-ai/lib/python3.10/site-packages (from ipywidgets>=8.0.0->yfiles_jupyter_graphs) (0.2.2)\n",
      "Requirement already satisfied: ipython>=6.1.0 in /home/ozymas/miniconda3/envs/ecosystem-ai/lib/python3.10/site-packages (from ipywidgets>=8.0.0->yfiles_jupyter_graphs) (8.34.0)\n",
      "Requirement already satisfied: traitlets>=4.3.1 in /home/ozymas/miniconda3/envs/ecosystem-ai/lib/python3.10/site-packages (from ipywidgets>=8.0.0->yfiles_jupyter_graphs) (5.14.3)\n",
      "Requirement already satisfied: widgetsnbextension~=4.0.12 in /home/ozymas/miniconda3/envs/ecosystem-ai/lib/python3.10/site-packages (from ipywidgets>=8.0.0->yfiles_jupyter_graphs) (4.0.13)\n",
      "Requirement already satisfied: jupyterlab-widgets~=3.0.12 in /home/ozymas/miniconda3/envs/ecosystem-ai/lib/python3.10/site-packages (from ipywidgets>=8.0.0->yfiles_jupyter_graphs) (3.0.13)\n",
      "Requirement already satisfied: decorator in /home/ozymas/miniconda3/envs/ecosystem-ai/lib/python3.10/site-packages (from ipython>=6.1.0->ipywidgets>=8.0.0->yfiles_jupyter_graphs) (5.1.1)\n",
      "Requirement already satisfied: exceptiongroup in /home/ozymas/miniconda3/envs/ecosystem-ai/lib/python3.10/site-packages (from ipython>=6.1.0->ipywidgets>=8.0.0->yfiles_jupyter_graphs) (1.2.2)\n",
      "Requirement already satisfied: jedi>=0.16 in /home/ozymas/miniconda3/envs/ecosystem-ai/lib/python3.10/site-packages (from ipython>=6.1.0->ipywidgets>=8.0.0->yfiles_jupyter_graphs) (0.19.2)\n",
      "Requirement already satisfied: matplotlib-inline in /home/ozymas/miniconda3/envs/ecosystem-ai/lib/python3.10/site-packages (from ipython>=6.1.0->ipywidgets>=8.0.0->yfiles_jupyter_graphs) (0.1.7)\n",
      "Requirement already satisfied: pexpect>4.3 in /home/ozymas/miniconda3/envs/ecosystem-ai/lib/python3.10/site-packages (from ipython>=6.1.0->ipywidgets>=8.0.0->yfiles_jupyter_graphs) (4.9.0)\n",
      "Requirement already satisfied: prompt_toolkit<3.1.0,>=3.0.41 in /home/ozymas/miniconda3/envs/ecosystem-ai/lib/python3.10/site-packages (from ipython>=6.1.0->ipywidgets>=8.0.0->yfiles_jupyter_graphs) (3.0.50)\n",
      "Requirement already satisfied: pygments>=2.4.0 in /home/ozymas/miniconda3/envs/ecosystem-ai/lib/python3.10/site-packages (from ipython>=6.1.0->ipywidgets>=8.0.0->yfiles_jupyter_graphs) (2.18.0)\n",
      "Requirement already satisfied: stack_data in /home/ozymas/miniconda3/envs/ecosystem-ai/lib/python3.10/site-packages (from ipython>=6.1.0->ipywidgets>=8.0.0->yfiles_jupyter_graphs) (0.6.3)\n",
      "Requirement already satisfied: typing_extensions>=4.6 in /home/ozymas/miniconda3/envs/ecosystem-ai/lib/python3.10/site-packages (from ipython>=6.1.0->ipywidgets>=8.0.0->yfiles_jupyter_graphs) (4.12.2)\n",
      "Requirement already satisfied: parso<0.9.0,>=0.8.4 in /home/ozymas/miniconda3/envs/ecosystem-ai/lib/python3.10/site-packages (from jedi>=0.16->ipython>=6.1.0->ipywidgets>=8.0.0->yfiles_jupyter_graphs) (0.8.4)\n",
      "Requirement already satisfied: ptyprocess>=0.5 in /home/ozymas/miniconda3/envs/ecosystem-ai/lib/python3.10/site-packages (from pexpect>4.3->ipython>=6.1.0->ipywidgets>=8.0.0->yfiles_jupyter_graphs) (0.7.0)\n",
      "Requirement already satisfied: wcwidth in /home/ozymas/miniconda3/envs/ecosystem-ai/lib/python3.10/site-packages (from prompt_toolkit<3.1.0,>=3.0.41->ipython>=6.1.0->ipywidgets>=8.0.0->yfiles_jupyter_graphs) (0.2.13)\n",
      "Requirement already satisfied: executing>=1.2.0 in /home/ozymas/miniconda3/envs/ecosystem-ai/lib/python3.10/site-packages (from stack_data->ipython>=6.1.0->ipywidgets>=8.0.0->yfiles_jupyter_graphs) (2.1.0)\n",
      "Requirement already satisfied: asttokens>=2.1.0 in /home/ozymas/miniconda3/envs/ecosystem-ai/lib/python3.10/site-packages (from stack_data->ipython>=6.1.0->ipywidgets>=8.0.0->yfiles_jupyter_graphs) (3.0.0)\n",
      "Requirement already satisfied: pure_eval in /home/ozymas/miniconda3/envs/ecosystem-ai/lib/python3.10/site-packages (from stack_data->ipython>=6.1.0->ipywidgets>=8.0.0->yfiles_jupyter_graphs) (0.2.3)\n"
     ]
    }
   ],
   "source": [
    "!pip install yfiles_jupyter_graphs networkx\n"
   ]
  },
  {
   "cell_type": "code",
   "execution_count": null,
   "metadata": {},
   "outputs": [
    {
     "ename": "SyntaxError",
     "evalue": "invalid syntax (629580002.py, line 1)",
     "output_type": "error",
     "traceback": [
      "  \u001b[36mCell\u001b[39m\u001b[36m \u001b[39m\u001b[32mIn[15]\u001b[39m\u001b[32m, line 1\u001b[39m\n\u001b[31m    \u001b[39m\u001b[31mjupyter nbextension enable --py widgetsnbextension\u001b[39m\n            ^\n\u001b[31mSyntaxError\u001b[39m\u001b[31m:\u001b[39m invalid syntax\n"
     ]
    }
   ],
   "source": [
    "\n"
   ]
  },
  {
   "cell_type": "code",
   "execution_count": 3,
   "metadata": {},
   "outputs": [
    {
     "data": {
      "application/vnd.jupyter.widget-view+json": {
       "model_id": "5779733f9b7b43a8823d1659021514e8",
       "version_major": 2,
       "version_minor": 0
      },
      "text/plain": [
       "GraphWidget(layout=Layout(height='700px', width='100%'))"
      ]
     },
     "metadata": {},
     "output_type": "display_data"
    }
   ],
   "source": [
    "import networkx as nx\n",
    "from yfiles_jupyter_graphs import GraphWidget\n",
    "\n",
    "\n",
    "# Load the GraphML file into a NetworkX graph\n",
    "G = nx.read_graphml(\"/home/ozymas/Projects/GraphRAG/ragtest/output/graph.graphml\")\n",
    "\n",
    "# Create and display the graph widget using the graph parameter\n",
    "graph_widget = GraphWidget(graph=G)\n",
    "graph_widget.node_label_mapping = 'id'\n",
    "display(graph_widget)\n"
   ]
  },
  {
   "cell_type": "code",
   "execution_count": 2,
   "metadata": {},
   "outputs": [
    {
     "name": "stdout",
     "output_type": "stream",
     "text": [
      "Collecting pyvis\n",
      "  Downloading pyvis-0.3.2-py3-none-any.whl.metadata (1.7 kB)\n",
      "Requirement already satisfied: ipython>=5.3.0 in /home/ozymas/miniconda3/envs/ecosystem-ai/lib/python3.10/site-packages (from pyvis) (8.34.0)\n",
      "Requirement already satisfied: jinja2>=2.9.6 in /home/ozymas/miniconda3/envs/ecosystem-ai/lib/python3.10/site-packages (from pyvis) (3.1.4)\n",
      "Collecting jsonpickle>=1.4.1 (from pyvis)\n",
      "  Downloading jsonpickle-4.0.5-py3-none-any.whl.metadata (8.2 kB)\n",
      "Requirement already satisfied: networkx>=1.11 in /home/ozymas/miniconda3/envs/ecosystem-ai/lib/python3.10/site-packages (from pyvis) (3.4.2)\n",
      "Requirement already satisfied: decorator in /home/ozymas/miniconda3/envs/ecosystem-ai/lib/python3.10/site-packages (from ipython>=5.3.0->pyvis) (5.1.1)\n",
      "Requirement already satisfied: exceptiongroup in /home/ozymas/miniconda3/envs/ecosystem-ai/lib/python3.10/site-packages (from ipython>=5.3.0->pyvis) (1.2.2)\n",
      "Requirement already satisfied: jedi>=0.16 in /home/ozymas/miniconda3/envs/ecosystem-ai/lib/python3.10/site-packages (from ipython>=5.3.0->pyvis) (0.19.2)\n",
      "Requirement already satisfied: matplotlib-inline in /home/ozymas/miniconda3/envs/ecosystem-ai/lib/python3.10/site-packages (from ipython>=5.3.0->pyvis) (0.1.7)\n",
      "Requirement already satisfied: pexpect>4.3 in /home/ozymas/miniconda3/envs/ecosystem-ai/lib/python3.10/site-packages (from ipython>=5.3.0->pyvis) (4.9.0)\n",
      "Requirement already satisfied: prompt_toolkit<3.1.0,>=3.0.41 in /home/ozymas/miniconda3/envs/ecosystem-ai/lib/python3.10/site-packages (from ipython>=5.3.0->pyvis) (3.0.50)\n",
      "Requirement already satisfied: pygments>=2.4.0 in /home/ozymas/miniconda3/envs/ecosystem-ai/lib/python3.10/site-packages (from ipython>=5.3.0->pyvis) (2.18.0)\n",
      "Requirement already satisfied: stack_data in /home/ozymas/miniconda3/envs/ecosystem-ai/lib/python3.10/site-packages (from ipython>=5.3.0->pyvis) (0.6.3)\n",
      "Requirement already satisfied: traitlets>=5.13.0 in /home/ozymas/miniconda3/envs/ecosystem-ai/lib/python3.10/site-packages (from ipython>=5.3.0->pyvis) (5.14.3)\n",
      "Requirement already satisfied: typing_extensions>=4.6 in /home/ozymas/miniconda3/envs/ecosystem-ai/lib/python3.10/site-packages (from ipython>=5.3.0->pyvis) (4.12.2)\n",
      "Requirement already satisfied: MarkupSafe>=2.0 in /home/ozymas/miniconda3/envs/ecosystem-ai/lib/python3.10/site-packages (from jinja2>=2.9.6->pyvis) (2.1.5)\n",
      "Requirement already satisfied: parso<0.9.0,>=0.8.4 in /home/ozymas/miniconda3/envs/ecosystem-ai/lib/python3.10/site-packages (from jedi>=0.16->ipython>=5.3.0->pyvis) (0.8.4)\n",
      "Requirement already satisfied: ptyprocess>=0.5 in /home/ozymas/miniconda3/envs/ecosystem-ai/lib/python3.10/site-packages (from pexpect>4.3->ipython>=5.3.0->pyvis) (0.7.0)\n",
      "Requirement already satisfied: wcwidth in /home/ozymas/miniconda3/envs/ecosystem-ai/lib/python3.10/site-packages (from prompt_toolkit<3.1.0,>=3.0.41->ipython>=5.3.0->pyvis) (0.2.13)\n",
      "Requirement already satisfied: executing>=1.2.0 in /home/ozymas/miniconda3/envs/ecosystem-ai/lib/python3.10/site-packages (from stack_data->ipython>=5.3.0->pyvis) (2.1.0)\n",
      "Requirement already satisfied: asttokens>=2.1.0 in /home/ozymas/miniconda3/envs/ecosystem-ai/lib/python3.10/site-packages (from stack_data->ipython>=5.3.0->pyvis) (3.0.0)\n",
      "Requirement already satisfied: pure_eval in /home/ozymas/miniconda3/envs/ecosystem-ai/lib/python3.10/site-packages (from stack_data->ipython>=5.3.0->pyvis) (0.2.3)\n",
      "Downloading pyvis-0.3.2-py3-none-any.whl (756 kB)\n",
      "\u001b[2K   \u001b[90m━━━━━━━━━━━━━━━━━━━━━━━━━━━━━━━━━━━━━━━━\u001b[0m \u001b[32m756.0/756.0 kB\u001b[0m \u001b[31m3.4 MB/s\u001b[0m eta \u001b[36m0:00:00\u001b[0ma \u001b[36m0:00:01\u001b[0m\n",
      "\u001b[?25hDownloading jsonpickle-4.0.5-py3-none-any.whl (46 kB)\n",
      "Installing collected packages: jsonpickle, pyvis\n",
      "Successfully installed jsonpickle-4.0.5 pyvis-0.3.2\n",
      "Note: you may need to restart the kernel to use updated packages.\n"
     ]
    }
   ],
   "source": [
    "pip install pyvis"
   ]
  },
  {
   "cell_type": "code",
   "execution_count": 4,
   "metadata": {},
   "outputs": [
    {
     "name": "stdout",
     "output_type": "stream",
     "text": [
      "Warning: When  cdn_resources is 'local' jupyter notebook has issues displaying graphics on chrome/safari. Use cdn_resources='in_line' or cdn_resources='remote' if you have issues viewing graphics in a notebook.\n",
      "knowledge_graph.html\n"
     ]
    },
    {
     "data": {
      "text/html": [
       "\n",
       "        <iframe\n",
       "            width=\"100%\"\n",
       "            height=\"600px\"\n",
       "            src=\"knowledge_graph.html\"\n",
       "            frameborder=\"0\"\n",
       "            allowfullscreen\n",
       "            \n",
       "        ></iframe>\n",
       "        "
      ],
      "text/plain": [
       "<IPython.lib.display.IFrame at 0x7fcb84f07ac0>"
      ]
     },
     "execution_count": 4,
     "metadata": {},
     "output_type": "execute_result"
    }
   ],
   "source": [
    "import networkx as nx\n",
    "from pyvis.network import Network\n",
    "\n",
    "G = nx.read_graphml(\"/home/ozymas/Projects/GraphRAG/ragtest/output/graph.graphml\")\n",
    "\n",
    "net = Network(notebook=True)\n",
    "net.from_nx(G)\n",
    "\n",
    "net.show('knowledge_graph.html')"
   ]
  },
  {
   "cell_type": "code",
   "execution_count": null,
   "metadata": {},
   "outputs": [],
   "source": []
  }
 ],
 "metadata": {
  "kernelspec": {
   "display_name": "ecosystem-ai",
   "language": "python",
   "name": "python3"
  },
  "language_info": {
   "codemirror_mode": {
    "name": "ipython",
    "version": 3
   },
   "file_extension": ".py",
   "mimetype": "text/x-python",
   "name": "python",
   "nbconvert_exporter": "python",
   "pygments_lexer": "ipython3",
   "version": "3.10.7"
  }
 },
 "nbformat": 4,
 "nbformat_minor": 2
}
